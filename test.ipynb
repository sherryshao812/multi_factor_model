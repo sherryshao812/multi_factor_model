{
 "cells": [
  {
   "cell_type": "code",
   "execution_count": 3,
   "metadata": {},
   "outputs": [
    {
     "name": "stdout",
     "output_type": "stream",
     "text": [
      "__CUDNN VERSION: 8500\n",
      "__Number CUDA Devices: 1\n",
      "__CUDA Device Name: Tesla T4\n",
      "__CUDA Device Total Memory [GB]: 15.843721216\n"
     ]
    }
   ],
   "source": [
    "import torch\n",
    "use_cuda = torch.cuda.is_available()\n",
    "\n",
    "if use_cuda:\n",
    "    print('__CUDNN VERSION:', torch.backends.cudnn.version())\n",
    "    print('__Number CUDA Devices:', torch.cuda.device_count())\n",
    "    print('__CUDA Device Name:',torch.cuda.get_device_name(0))\n",
    "    print('__CUDA Device Total Memory [GB]:',torch.cuda.get_device_properties(0).total_memory/1e9)"
   ]
  },
  {
   "cell_type": "code",
   "execution_count": null,
   "metadata": {},
   "outputs": [],
   "source": [
    "# !pip install torch\n",
    "# !pip install pandas_datareader\n",
    "# !pip install matplotlib\n",
    "# !pip install seaborn\n",
    "# !pip install scipy\n",
    "# !pip install \n",
    "# !pip install scikit-learn\n",
    "# !pip install xgboost"
   ]
  },
  {
   "cell_type": "code",
   "execution_count": 1,
   "metadata": {},
   "outputs": [
    {
     "data": {
      "text/plain": [
       "2"
      ]
     },
     "execution_count": 1,
     "metadata": {},
     "output_type": "execute_result"
    }
   ],
   "source": [
    "1+1"
   ]
  },
  {
   "cell_type": "code",
   "execution_count": 8,
   "metadata": {},
   "outputs": [],
   "source": [
    "from pandas_datareader import data as dt\n",
    "import pandas as pd\n",
    "import numpy as np\n",
    "import matplotlib.pyplot as plt\n",
    "import seaborn as sns\n",
    "import pandas as pd\n",
    "import pickle\n",
    "\n",
    "from   scipy.io import loadmat\n",
    "import time\n",
    "from datetime import datetime, timedelta\n",
    "from dateutil.relativedelta import relativedelta\n",
    "\n",
    "# from utility_funcs import *\n",
    "\n",
    "import warnings\n",
    "warnings.filterwarnings('ignore')"
   ]
  },
  {
   "cell_type": "code",
   "execution_count": 8,
   "metadata": {},
   "outputs": [],
   "source": [
    "# factors = pd.read_parquet('/Users/shaorui/Desktop/CMA/uqer_ALL_2018_20211029.parquet')\n",
    "citi_path = '/home/ubuntu/multi_factor_model/raw_data/citi_sector_33_info.csv'\n",
    "Andariel_path = '/home/ubuntu/multi_factor_model/raw_data/_Andariel_20230426.mat'\n",
    "DIABLO_FILE = '/Users/shaorui/Desktop/CMA/Diablo_EVA_20230411.parquet'\n",
    "\n",
    "data_mat    = loadmat(Andariel_path)"
   ]
  },
  {
   "cell_type": "code",
   "execution_count": 9,
   "metadata": {},
   "outputs": [],
   "source": [
    "def read_Andariel(Andariel_path, citi_path):\n",
    "    \n",
    "    ############################# BASIC-info <<<>>> JuYuan by Matlab \n",
    "    data_mat    = loadmat(Andariel_path)\n",
    "    citi_sector = pd.read_csv(citi_path, encoding=\"gbk\")\n",
    "    jstockcode  = data_mat['Data'][0,0]['jstockcode'].ravel()\n",
    "    jipoday     = data_mat['Data'][0,0]['jipodate'].ravel()\n",
    "    jquitday    = data_mat['Data'][0,0]['jquitday'].ravel()\n",
    "    jstockname  = data_mat['Data'][0,0]['jstockname'].ravel()\n",
    "    EOM         = np.array(data_mat['Data'][0,0]['date_EOM']).ravel()\n",
    "    EOW         = np.array(data_mat['Data'][0,0]['date_EOW']).ravel()\n",
    "    ALLDAYS     = np.array(data_mat['Data'][0,0]['ALLDAY']).ravel()\n",
    "    ST          = np.asarray(data_mat['Data'][0,0]['ST'])\n",
    "    Citics1     = np.asarray(data_mat['Data'][0,0]['Citics'])[:,-1]\n",
    "    CITI        = np.zeros_like(Citics1)\n",
    "    for i in range(len(CITI)):  #slow\n",
    "        CITI[i] = citi_sector.loc[citi_sector['code']==Citics1[i]]['id']\n",
    "    CITI[np.where(CITI==31)]=30\n",
    "    windforce = pd.DataFrame({'code':jstockcode,'name':jstockname,'ipoday':jipoday,'quitday':jquitday,'citics_sector':Citics1,'sector':CITI})\n",
    "    \n",
    "    ZZ500info      = data_mat['GUNDAM'][0,0]['ZZ500info'] \n",
    "    ZZ500_DAYS     = [int(i) for i in ZZ500info[0,:]['date']]\n",
    "    INDEXPRICE_500 = data_mat['GUNDAM'][0,0]['Index_Price_ZZ500']  # day close open\n",
    "    \n",
    "    # HS300info  = data_mat['GUNDAM'][0,0]['HS300info'] \n",
    "    # HS300_DAYS = [int(i) for i in HS300info[0,:]['date']]\n",
    "    # INDEXPRICE_300 = data_mat['GUNDAM'][0,0]['Index_Price_HS300']  # day close open\n",
    "\n",
    "    andariel = {'jstockcode':jstockcode,\n",
    "                'jipoday':jipoday,\n",
    "                'jipoday':jipoday,\n",
    "                'jquitday':jquitday,\n",
    "                'jstockname':jstockname,\n",
    "                'EOM':EOM,\n",
    "                'EOW':EOW,\n",
    "                'ALLDAYS':ALLDAYS,\n",
    "                'ST':ST,\n",
    "                'citi_sector':citi_sector,\n",
    "                'windforce':windforce,\n",
    "                'ZZ500info':ZZ500info,\n",
    "                'ZZ500_DAYS':ZZ500_DAYS,\n",
    "                'INDEXPRICE_500':INDEXPRICE_500\n",
    "                }\n",
    "    return andariel\n",
    "\n",
    "andariel = read_Andariel(Andariel_path, citi_path)"
   ]
  },
  {
   "cell_type": "code",
   "execution_count": 51,
   "metadata": {},
   "outputs": [
    {
     "data": {
      "text/plain": [
       "(array([[20230331]], dtype=int32), array([[9.0000000e+00, 2.0230331e+07, 3.4100000e-03],\n",
       "       [1.2000000e+01, 2.0230331e+07, 1.3400000e-03],\n",
       "       [2.1000000e+01, 2.0230331e+07, 2.2800000e-03],\n",
       "       ...,\n",
       "       [6.8877700e+05, 2.0230331e+07, 5.2500000e-03],\n",
       "       [6.8877900e+05, 2.0230331e+07, 1.6800000e-03],\n",
       "       [6.8881900e+05, 2.0230331e+07, 6.8000000e-04]]))"
      ]
     },
     "execution_count": 51,
     "metadata": {},
     "output_type": "execute_result"
    }
   ],
   "source": [
    "andariel['ZZ500info'][0,-1]"
   ]
  },
  {
   "cell_type": "code",
   "execution_count": 39,
   "metadata": {},
   "outputs": [
    {
     "data": {
      "text/plain": [
       "array([2.0230426e+07, 6.1421541e+03, 6.0951335e+03])"
      ]
     },
     "execution_count": 39,
     "metadata": {},
     "output_type": "execute_result"
    }
   ],
   "source": [
    "andariel['INDEXPRICE_500'][-1]"
   ]
  },
  {
   "cell_type": "code",
   "execution_count": 52,
   "metadata": {},
   "outputs": [
    {
     "data": {
      "text/plain": [
       "[20100129,\n",
       " 20100226,\n",
       " 20100331,\n",
       " 20100430,\n",
       " 20100531,\n",
       " 20100630,\n",
       " 20100730,\n",
       " 20100831,\n",
       " 20100930,\n",
       " 20101029,\n",
       " 20101130,\n",
       " 20101231,\n",
       " 20110131,\n",
       " 20110228,\n",
       " 20110331,\n",
       " 20110429,\n",
       " 20110531,\n",
       " 20110630,\n",
       " 20110729,\n",
       " 20110831,\n",
       " 20110930,\n",
       " 20111031,\n",
       " 20111130,\n",
       " 20111230,\n",
       " 20120131,\n",
       " 20120229,\n",
       " 20120330,\n",
       " 20120427,\n",
       " 20120531,\n",
       " 20120629,\n",
       " 20120731,\n",
       " 20120831,\n",
       " 20120928,\n",
       " 20121031,\n",
       " 20121130,\n",
       " 20121231,\n",
       " 20130131,\n",
       " 20130228,\n",
       " 20130329,\n",
       " 20130426,\n",
       " 20130531,\n",
       " 20130628,\n",
       " 20130731,\n",
       " 20130830,\n",
       " 20130930,\n",
       " 20131031,\n",
       " 20131129,\n",
       " 20131231,\n",
       " 20140130,\n",
       " 20140228,\n",
       " 20140331,\n",
       " 20140430,\n",
       " 20140530,\n",
       " 20140630,\n",
       " 20140731,\n",
       " 20140829,\n",
       " 20140930,\n",
       " 20141031,\n",
       " 20141128,\n",
       " 20141231,\n",
       " 20150130,\n",
       " 20150227,\n",
       " 20150331,\n",
       " 20150430,\n",
       " 20150529,\n",
       " 20150630,\n",
       " 20150731,\n",
       " 20150831,\n",
       " 20150930,\n",
       " 20151030,\n",
       " 20151130,\n",
       " 20151231,\n",
       " 20160129,\n",
       " 20160229,\n",
       " 20160331,\n",
       " 20160429,\n",
       " 20160531,\n",
       " 20160630,\n",
       " 20160729,\n",
       " 20160831,\n",
       " 20160930,\n",
       " 20161031,\n",
       " 20161130,\n",
       " 20161230,\n",
       " 20170126,\n",
       " 20170228,\n",
       " 20170331,\n",
       " 20170428,\n",
       " 20170531,\n",
       " 20170630,\n",
       " 20170731,\n",
       " 20170831,\n",
       " 20170929,\n",
       " 20171031,\n",
       " 20171130,\n",
       " 20171229,\n",
       " 20180131,\n",
       " 20180228,\n",
       " 20180330,\n",
       " 20180427,\n",
       " 20180531,\n",
       " 20180629,\n",
       " 20180731,\n",
       " 20180831,\n",
       " 20180928,\n",
       " 20181031,\n",
       " 20181130,\n",
       " 20181228,\n",
       " 20190131,\n",
       " 20190228,\n",
       " 20190329,\n",
       " 20190430,\n",
       " 20190531,\n",
       " 20190628,\n",
       " 20190731,\n",
       " 20190830,\n",
       " 20190930,\n",
       " 20191031,\n",
       " 20191129,\n",
       " 20191231,\n",
       " 20200123,\n",
       " 20200228,\n",
       " 20200331,\n",
       " 20200430,\n",
       " 20200529,\n",
       " 20200630,\n",
       " 20200731,\n",
       " 20200831,\n",
       " 20200930,\n",
       " 20201030,\n",
       " 20201130,\n",
       " 20201231,\n",
       " 20210129,\n",
       " 20210226,\n",
       " 20210331,\n",
       " 20210430,\n",
       " 20210531,\n",
       " 20210630,\n",
       " 20210730,\n",
       " 20210831,\n",
       " 20210930,\n",
       " 20211029,\n",
       " 20211130,\n",
       " 20211231,\n",
       " 20220128,\n",
       " 20220228,\n",
       " 20220331,\n",
       " 20220429,\n",
       " 20220531,\n",
       " 20220630,\n",
       " 20220729,\n",
       " 20220831,\n",
       " 20220930,\n",
       " 20221031,\n",
       " 20221130,\n",
       " 20221230,\n",
       " 20230131,\n",
       " 20230228,\n",
       " 20230331]"
      ]
     },
     "execution_count": 52,
     "metadata": {},
     "output_type": "execute_result"
    }
   ],
   "source": [
    "andariel['ZZ500_DAYS']"
   ]
  },
  {
   "cell_type": "code",
   "execution_count": null,
   "metadata": {},
   "outputs": [],
   "source": []
  }
 ],
 "metadata": {
  "kernelspec": {
   "display_name": "Python 3",
   "language": "python",
   "name": "python3"
  },
  "language_info": {
   "codemirror_mode": {
    "name": "ipython",
    "version": 3
   },
   "file_extension": ".py",
   "mimetype": "text/x-python",
   "name": "python",
   "nbconvert_exporter": "python",
   "pygments_lexer": "ipython3",
   "version": "3.8.10"
  },
  "orig_nbformat": 4
 },
 "nbformat": 4,
 "nbformat_minor": 2
}
